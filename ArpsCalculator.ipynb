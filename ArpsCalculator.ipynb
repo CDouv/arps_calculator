{
 "cells": [
  {
   "cell_type": "code",
   "execution_count": 3,
   "id": "534eae22",
   "metadata": {},
   "outputs": [],
   "source": [
    "def arps_rate(qi,di,b,t):\n",
    "    #qi: initial rate\n",
    "    #Di: initial decline rate\n",
    "    #b: b value\n",
    "    #t: time step to calc rate\n",
    "    \n",
    "    #if b=0, call the exponential rate method\n",
    "    \n",
    "    if b == 0:\n",
    "        \n",
    "        arps_rate = exponential_rate(qi,di,t)\n",
    "    else:\n",
    "        \n",
    "        arps_rate = qi / ((1 + b * di * t)**(1 / b))\n",
    "    \n",
    "    return arps_rate"
   ]
  },
  {
   "cell_type": "code",
   "execution_count": 4,
   "id": "22830a75",
   "metadata": {},
   "outputs": [],
   "source": [
    "def rate_time_forecast(start_time,qi,di,b,t):\n",
    "    #start_time month index to start forecasting from\n",
    "    #qi: initial rate, bbl/month or mcf/month\n",
    "    #b: b exponent\n",
    "    #t: time, months\n",
    "    \n",
    "    if t >= start_time:\n",
    "        \n",
    "        rate_time_forecast = arps_rate(qi,di,b,t-start_time)\n",
    "    \n",
    "    else:\n",
    "        \n",
    "        rate_time_forecast = 0\n",
    "    \n",
    "    return rate_time_forecast"
   ]
  },
  {
   "cell_type": "code",
   "execution_count": 5,
   "id": "987a1f93",
   "metadata": {},
   "outputs": [],
   "source": [
    "def exponential_rate(qi, di, t):\n",
    "    #qi: initial rate\n",
    "    #Di: initial decline rate\n",
    "    #t: time step to calc rate\n",
    "    \n",
    "    exponential_rate = qi * exp(-di * t)\n",
    "    \n",
    "    return exponential_rate\n"
   ]
  },
  {
   "cell_type": "code",
   "execution_count": null,
   "id": "d10f68e4",
   "metadata": {},
   "outputs": [],
   "source": [
    "def hyperbolic_decline_calculator(di,b,t):\n",
    "    #di: initial decline rate\n",
    "    #b: b exponent\n",
    "    #t: time, months\n",
    "    \n",
    "    hyp_decline = di/(1 + b * di * t)\n",
    "    \n",
    "    return hyp_decline"
   ]
  },
  {
   "cell_type": "code",
   "execution_count": 9,
   "id": "5cb1f6f9",
   "metadata": {},
   "outputs": [
    {
     "name": "stdout",
     "output_type": "stream",
     "text": [
      "882.2190594122509\n",
      "[1000.0, 882.2190594122509, 792.1171524790393, 720.7044739815562, 662.5489197648393, 614.1635955553656, 573.2017984533352, 538.022873142516, 507.44326988650505, 480.58647949532684, 456.78872988170986, 435.5376022046418, 416.4308516218561, 399.1480502889201, 383.43060768606887, 369.067405764593, 355.8842834175978, 343.73621366245555, 332.501398851766, 322.0767546070332, 312.3744142545908, 303.31899337941724, 294.84542759711553, 286.89724754106476, 279.42519084368655, 272.3860763947133, 265.74188456996114, 259.4590005716744, 253.50758795209825, 247.86106680056923, 242.495676654537, 237.39010843553737, 232.52519296091134, 227.88363609222588, 223.44979253468296, 219.2094718325186, 215.149771312903, 211.2589316893956, 207.5262118014599, 203.94177958126042, 200.49661683528893, 197.18243583115992, 193.99160600839173, 190.91708940112088, 187.95238358217418, 185.09147112097108, 182.32877469962597, 179.65911715815957, 177.07768584554273, 174.58000074209144]\n"
     ]
    }
   ],
   "source": [
    "#testing it out\n",
    "\n",
    "qi = 1000\n",
    "di = 0.1361\n",
    "b = 1.3\n",
    "start_time = 0\n",
    "t = 1\n",
    "\n",
    "time_series = range(0,50)\n",
    "\n",
    "print(rate_time_forecast(start_time,qi,di,b,t))\n",
    "\n",
    "rate_times = [rate_time_forecast(start_time,qi,di,b,t) for t in time_series]\n",
    "print(rate_times)"
   ]
  },
  {
   "cell_type": "code",
   "execution_count": null,
   "id": "18f595d2",
   "metadata": {},
   "outputs": [],
   "source": []
  }
 ],
 "metadata": {
  "kernelspec": {
   "display_name": "Python 3",
   "language": "python",
   "name": "python3"
  },
  "language_info": {
   "codemirror_mode": {
    "name": "ipython",
    "version": 3
   },
   "file_extension": ".py",
   "mimetype": "text/x-python",
   "name": "python",
   "nbconvert_exporter": "python",
   "pygments_lexer": "ipython3",
   "version": "3.8.8"
  }
 },
 "nbformat": 4,
 "nbformat_minor": 5
}
